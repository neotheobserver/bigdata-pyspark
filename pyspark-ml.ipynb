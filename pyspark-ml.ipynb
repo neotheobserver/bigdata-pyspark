{
 "cells": [
  {
   "cell_type": "markdown",
   "id": "020463ad",
   "metadata": {},
   "source": [
    "## Intro to ML using Pyspark"
   ]
  },
  {
   "cell_type": "markdown",
   "id": "6393e596",
   "metadata": {},
   "source": [
    "#### Getting our data ready"
   ]
  },
  {
   "cell_type": "code",
   "execution_count": null,
   "id": "7096a815",
   "metadata": {},
   "outputs": [
    {
     "name": "stdout",
     "output_type": "stream",
     "text": [
      "25/08/04 08:09:35 WARN Utils: Your hostname, ardent resolves to a loopback address: 127.0.1.1; using 192.168.122.50 instead (on interface enp1s0)\n",
      "25/08/04 08:09:35 WARN Utils: Set SPARK_LOCAL_IP if you need to bind to another address\n"
     ]
    },
    {
     "name": "stderr",
     "output_type": "stream",
     "text": [
      "Setting default log level to \"WARN\".\n",
      "To adjust logging level use sc.setLogLevel(newLevel). For SparkR, use setLogLevel(newLevel).\n"
     ]
    },
    {
     "name": "stdout",
     "output_type": "stream",
     "text": [
      "25/08/04 08:09:37 WARN NativeCodeLoader: Unable to load native-hadoop library for your platform... using builtin-java classes where applicable\n"
     ]
    }
   ],
   "source": [
    "from pyspark.sql import SparkSession\n",
    "from pyspark.sql import functions as F\n",
    "spark = SparkSession.builder \\\n",
    "        .appName(\"ML DEMO\") \\\n",
    "        .config(\"spark.driver.memory\", \"2g\") \\\n",
    "        .config(\"spark.executor.memory\", \"4g\") \\\n",
    "        .getOrCreate()"
   ]
  },
  {
   "cell_type": "code",
   "execution_count": 1,
   "id": "6f8306a9",
   "metadata": {},
   "outputs": [],
   "source": [
    "import test"
   ]
  },
  {
   "cell_type": "code",
   "execution_count": 2,
   "id": "8d1885c8",
   "metadata": {},
   "outputs": [
    {
     "name": "stderr",
     "output_type": "stream",
     "text": [
      "                                                                                \r"
     ]
    },
    {
     "name": "stdout",
     "output_type": "stream",
     "text": [
      "root\n",
      " |-- id: string (nullable = true)\n",
      " |-- name: string (nullable = true)\n",
      " |-- popularity: integer (nullable = true)\n",
      " |-- duration_ms: integer (nullable = true)\n",
      " |-- danceability: float (nullable = true)\n",
      " |-- energy: float (nullable = true)\n",
      " |-- tempo: float (nullable = true)\n",
      "\n"
     ]
    }
   ],
   "source": [
    "df = spark.read.parquet(\"/home/ardent/Data/transform/stage3/track_metadata\")\n",
    "df.printSchema()"
   ]
  },
  {
   "cell_type": "code",
   "execution_count": 3,
   "id": "c96236f0",
   "metadata": {},
   "outputs": [],
   "source": [
    "df = df.dropna(subset=[\"popularity\", \"danceability\", \"energy\", \"tempo\"])"
   ]
  },
  {
   "cell_type": "code",
   "execution_count": 4,
   "id": "c3aa6805",
   "metadata": {},
   "outputs": [],
   "source": [
    "from pyspark.ml.feature import VectorAssembler, StandardScaler\n",
    "from pyspark.ml.regression import LinearRegression, RandomForestRegressor\n",
    "from pyspark.ml.evaluation import RegressionEvaluator\n",
    "\n",
    "feature_cols = [\"danceability\", \"energy\", \"tempo\"]\n",
    "assembler = VectorAssembler(inputCols=feature_cols, outputCol=\"raw_features\")\n",
    "df = assembler.transform(df)"
   ]
  },
  {
   "cell_type": "code",
   "execution_count": 5,
   "id": "c29f1515",
   "metadata": {},
   "outputs": [
    {
     "name": "stdout",
     "output_type": "stream",
     "text": [
      "+----------------------+-----------------------------------------------+----------+-----------+------------+------+-------+-----------------------------------------------------------+\n",
      "|id                    |name                                           |popularity|duration_ms|danceability|energy|tempo  |raw_features                                               |\n",
      "+----------------------+-----------------------------------------------+----------+-----------+------------+------+-------+-----------------------------------------------------------+\n",
      "|00105Q1NbnHkf8R5eXXeXm|Es un Secreto                                  |44        |234067     |0.777       |0.832 |94.964 |[0.7770000100135803,0.8320000171661377,94.96399688720703]  |\n",
      "|001GxQGaFwTjxM7tmKbMF3|La Falla Fue Tuya                              |30        |214493     |0.547       |0.731 |159.801|[0.546999990940094,0.7310000061988831,159.80099487304688]  |\n",
      "|001LvKFwYbfKYPQF2Fiv77|Yeh Lo Main Haari Piya                         |34        |190787     |0.555       |0.533 |82.68  |[0.5550000071525574,0.5329999923706055,82.68000030517578]  |\n",
      "|001gx41rQo0bKh063TrC1I|Camino a Camagüey                              |22        |382030     |0.503       |0.233 |129.254|[0.503000020980835,0.2329999953508377,129.25399780273438]  |\n",
      "|002CcxKpBE1tfKOy2CRaWr|Teri Bhi Chup Aur Meri Bhi Chup                |0         |194154     |0.505       |0.419 |134.658|[0.5049999952316284,0.4189999997615814,134.6580047607422]  |\n",
      "|002GhFnAM2IkoVWzVnqJHe|\"Neenaade Naa (From \"\"Yuvarathnaa (Kannada)\"\")\"|55        |252460     |0.445       |0.553 |185.871|[0.4449999928474426,0.5529999732971191,185.87100219726562] |\n",
      "|002TGKi4LBwxYodlfWoaN0|Cunnamulla Fella - 1998 Remaster               |32        |132093     |0.763       |0.881 |143.164|[0.7630000114440918,0.8809999823570251,143.16400146484375] |\n",
      "|002dh6a4LfxfGGnhPZY4fG|Paris, France / When Does This Feeling Go Away?|0         |309347     |0.389       |0.312 |119.479|[0.3889999985694885,0.31200000643730164,119.47899627685547]|\n",
      "|00309sp8DDeN07RtAyBKIX|Workaholic                                     |34        |251646     |0.57        |0.881 |128.91 |[0.5699999928474426,0.8809999823570251,128.91000366210938] |\n",
      "|003FTlCpBTM4eSqYSWPv4H|Swing, Swing                                   |69        |233267     |0.553       |0.717 |127.947|[0.5529999732971191,0.7170000076293945,127.9469985961914]  |\n",
      "|003KPastz3K8HNyHb8dixS|מעביר דף                                       |26        |303120     |0.65        |0.83  |132.353|[0.6499999761581421,0.8299999833106995,132.35299682617188] |\n",
      "|003fzMu2jBvZqXNPMYNYox|Momentos de Amor                               |32        |213107     |0.567       |0.603 |159.934|[0.5669999718666077,0.6029999852180481,159.9340057373047]  |\n",
      "|004Me6nm9MknKeGKLnWx79|Change Of Heart                                |4         |223240     |0.705       |0.584 |98.844 |[0.7049999833106995,0.5839999914169312,98.84400177001953]  |\n",
      "|004TP6xsBixiK3zqOfPBEx|Kapitel 17 - Venetia und der Wüstling          |2         |121060     |0.708       |0.178 |100.121|[0.7080000042915344,0.17800000309944153,100.12100219726562]|\n",
      "|004ltC6j7SM8J06Egoa4wN|Kot Mon                                        |19        |251960     |0.762       |0.824 |98.072 |[0.7620000243186951,0.8240000009536743,98.0719985961914]   |\n",
      "|004sbHg1qMzdrDXdxJpkj1|Heartbreaker - Single Version                  |5         |262840     |0.568       |0.517 |104.441|[0.5680000185966492,0.5170000195503235,104.44100189208984] |\n",
      "|004tQ7CGOm6ZKbmhdTgKsM|Na mee vo Im Bundeshuus und am Bäregrabe       |17        |140120     |0.683       |0.479 |76.782 |[0.6830000281333923,0.4790000021457672,76.78199768066406]  |\n",
      "|004uWjBm1cOgxJAwQb6X8P|Mar y Luna                                     |39        |260467     |0.774       |0.634 |119.953|[0.7739999890327454,0.6340000033378601,119.9530029296875]  |\n",
      "|005A4eRpdtUHzrayh5WwpI|Hide And Seek                                  |6         |131093     |0.595       |0.683 |85.663 |[0.5950000286102295,0.6830000281333923,85.66300201416016]  |\n",
      "|005xgk7TSc0gKBEEns1ZJZ|Waltz For Ruth                                 |5         |343787     |0.39        |0.42  |94.734 |[0.38999998569488525,0.41999998688697815,94.73400115966797]|\n",
      "+----------------------+-----------------------------------------------+----------+-----------+------------+------+-------+-----------------------------------------------------------+\n",
      "only showing top 20 rows\n",
      "\n"
     ]
    },
    {
     "name": "stderr",
     "output_type": "stream",
     "text": [
      "                                                                                \r"
     ]
    }
   ],
   "source": [
    "df.show(truncate=False)"
   ]
  },
  {
   "cell_type": "code",
   "execution_count": 6,
   "id": "a22ec7a6",
   "metadata": {},
   "outputs": [
    {
     "name": "stderr",
     "output_type": "stream",
     "text": [
      "                                                                                \r"
     ]
    }
   ],
   "source": [
    "\n",
    "scaler = StandardScaler(inputCol=\"raw_features\", outputCol=\"features\")\n",
    "scaler_model = scaler.fit(df)\n",
    "df = scaler_model.transform(df)\n",
    "df = df.select(\"id\", \"name\", \"features\", F.col(\"popularity\").alias(\"label\"))"
   ]
  },
  {
   "cell_type": "code",
   "execution_count": 7,
   "id": "2bf7c078",
   "metadata": {},
   "outputs": [
    {
     "name": "stdout",
     "output_type": "stream",
     "text": [
      "+----------------------+-----------------------------------------------+------------------------------------------------------------+-----+\n",
      "|id                    |name                                           |features                                                    |label|\n",
      "+----------------------+-----------------------------------------------+------------------------------------------------------------+-----+\n",
      "|00105Q1NbnHkf8R5eXXeXm|Es un Secreto                                  |[0.021192901782353193,3.3105930406460367,3.1840039702302647]|44   |\n",
      "|001GxQGaFwTjxM7tmKbMF3|La Falla Fue Tuya                              |[0.01491958421305411,2.9087061097391613,5.357893715518947]  |30   |\n",
      "|001LvKFwYbfKYPQF2Fiv77|Yeh Lo Main Haari Piya                         |[0.015137786987395138,2.120848592547762,2.7721395250770353] |34   |\n",
      "|001gx41rQo0bKh063TrC1I|Camino a Camagüey                              |[0.013719472205646581,0.927125176879668,4.333697566045485]  |22   |\n",
      "|002CcxKpBE1tfKOy2CRaWr|Teri Bhi Chup Aur Meri Bhi Chup                |[0.013774022086364808,1.6672337194968978,4.514886018232114] |0    |\n",
      "|002GhFnAM2IkoVWzVnqJHe|\"Neenaade Naa (From \"\"Yuvarathnaa (Kannada)\"\")\"|[0.012137504530275223,2.200430078487982,6.231982944543666]  |55   |\n",
      "|002TGKi4LBwxYodlfWoaN0|Cunnamulla Fella - 1998 Remaster               |[0.020811047740123427,3.5055677286338827,4.800079651233816] |32   |\n",
      "|002dh6a4LfxfGGnhPZY4fG|Paris, France / When Does This Feeling Go Away?|[0.010610088361356153,1.2414723902422637,4.005956056762001] |0    |\n",
      "|00309sp8DDeN07RtAyBKIX|Workaholic                                     |[0.015546915969984018,3.5055677286338827,4.322163945458866] |34   |\n",
      "|003FTlCpBTM4eSqYSWPv4H|Swing, Swing                                   |[0.01508323548094285,2.8529990221467005,4.289875793593517]  |69   |\n",
      "|003KPastz3K8HNyHb8dixS|מעביר דף                                       |[0.01772893883619211,3.302634749749093,4.437602472302585]   |26   |\n",
      "|003fzMu2jBvZqXNPMYNYox|Momentos de Amor                               |[0.015465089523172618,2.3993840305100678,5.362353375324375] |32   |\n",
      "|004Me6nm9MknKeGKLnWx79|Change Of Heart                                |[0.019229080064752067,2.323781571432552,3.314094861055565]  |4    |\n",
      "|004TP6xsBixiK3zqOfPBEx|Kapitel 17 - Venetia und der Wüstling          |[0.019310906511563468,0.7082759126654113,3.3569108182984624]|2    |\n",
      "|004ltC6j7SM8J06Egoa4wN|Kot Mon                                        |[0.020783772799764313,3.2787603514013344,3.288210723371063] |19   |\n",
      "|004sbHg1qMzdrDXdxJpkj1|Heartbreaker - Single Version                  |[0.015492366089265793,2.0571834512298937,3.5017540918608754]|5    |\n",
      "|004tQ7CGOm6ZKbmhdTgKsM|Na mee vo Im Bundeshuus und am Bäregrabe       |[0.018629024873915333,1.9059784144890934,2.5743881204559895]|17   |\n",
      "|004uWjBm1cOgxJAwQb6X8P|Mar y Luna                                     |[0.021111075335541792,2.5227355234546374,4.0218488067936295]|39   |\n",
      "|005A4eRpdtUHzrayh5WwpI|Hide And Seek                                  |[0.016228799233366214,2.7177104486140196,2.872155210978409] |6    |\n",
      "|005xgk7TSc0gKBEEns1ZJZ|Waltz For Ruth                                 |[0.010637363301715266,1.6712127463596016,3.176292549759092] |5    |\n",
      "+----------------------+-----------------------------------------------+------------------------------------------------------------+-----+\n",
      "only showing top 20 rows\n",
      "\n"
     ]
    }
   ],
   "source": [
    "df.show(truncate=False)"
   ]
  },
  {
   "cell_type": "code",
   "execution_count": 8,
   "id": "5fd36ba3",
   "metadata": {},
   "outputs": [],
   "source": [
    "train_df, test_df = df.randomSplit([0.8, 0.2], seed=42)"
   ]
  },
  {
   "cell_type": "code",
   "execution_count": 9,
   "id": "0adcdd20",
   "metadata": {},
   "outputs": [
    {
     "name": "stdout",
     "output_type": "stream",
     "text": [
      "25/08/04 08:11:55 WARN Instrumentation: [019fc8ae] regParam is zero, which might cause numerical instability and overfitting.\n"
     ]
    },
    {
     "name": "stderr",
     "output_type": "stream",
     "text": [
      "[Stage 6:>                                                          (0 + 8) / 8]\r"
     ]
    },
    {
     "name": "stdout",
     "output_type": "stream",
     "text": [
      "25/08/04 08:11:57 WARN InstanceBuilder$NativeBLAS: Failed to load implementation from:dev.ludovic.netlib.blas.JNIBLAS\n",
      "25/08/04 08:11:57 WARN InstanceBuilder$NativeBLAS: Failed to load implementation from:dev.ludovic.netlib.blas.ForeignLinkerBLAS\n"
     ]
    },
    {
     "name": "stderr",
     "output_type": "stream",
     "text": [
      "                                                                                \r"
     ]
    },
    {
     "name": "stdout",
     "output_type": "stream",
     "text": [
      "25/08/04 08:11:58 WARN InstanceBuilder$NativeLAPACK: Failed to load implementation from:dev.ludovic.netlib.lapack.JNILAPACK\n"
     ]
    },
    {
     "name": "stderr",
     "output_type": "stream",
     "text": [
      "                                                                                \r"
     ]
    }
   ],
   "source": [
    "lr = LinearRegression(featuresCol=\"features\", labelCol=\"label\")\n",
    "lr_model = lr.fit(train_df)\n",
    "lr_predictions = lr_model.transform(test_df)"
   ]
  },
  {
   "cell_type": "code",
   "execution_count": 10,
   "id": "763cffa8",
   "metadata": {},
   "outputs": [
    {
     "name": "stderr",
     "output_type": "stream",
     "text": [
      "                                                                                \r"
     ]
    },
    {
     "name": "stdout",
     "output_type": "stream",
     "text": [
      "Linear Regression RMSE on test data: 17.471510846385318\n",
      "Linear Regression R-squared on test data: 0.0930268659166521\n"
     ]
    }
   ],
   "source": [
    "evaluator = RegressionEvaluator(labelCol=\"label\", predictionCol=\"prediction\", metricName=\"rmse\")\n",
    "lr_rmse = evaluator.evaluate(lr_predictions)\n",
    "print(f\"Linear Regression RMSE on test data: {lr_rmse}\")\n",
    "r2_evaluator = RegressionEvaluator(labelCol=\"label\", predictionCol=\"prediction\", metricName=\"r2\")\n",
    "lr_r2 = r2_evaluator.evaluate(lr_predictions)\n",
    "print(f\"Linear Regression R-squared on test data: {lr_r2}\")"
   ]
  },
  {
   "cell_type": "code",
   "execution_count": 11,
   "id": "928c1fd3",
   "metadata": {},
   "outputs": [
    {
     "name": "stderr",
     "output_type": "stream",
     "text": [
      "                                                                                \r"
     ]
    },
    {
     "name": "stdout",
     "output_type": "stream",
     "text": [
      "25/08/04 08:12:25 WARN DAGScheduler: Broadcasting large task binary with size 1143.0 KiB\n"
     ]
    },
    {
     "name": "stderr",
     "output_type": "stream",
     "text": [
      "                                                                                \r"
     ]
    },
    {
     "name": "stdout",
     "output_type": "stream",
     "text": [
      "25/08/04 08:12:28 WARN DAGScheduler: Broadcasting large task binary with size 1872.7 KiB\n"
     ]
    },
    {
     "name": "stderr",
     "output_type": "stream",
     "text": [
      "WARNING: An illegal reflective access operation has occurred                    \n",
      "WARNING: Illegal reflective access by org.apache.spark.util.SizeEstimator$ (file:/opt/spark/jars/spark-core_2.12-3.3.1.jar) to field java.nio.charset.Charset.name\n",
      "WARNING: Please consider reporting this to the maintainers of org.apache.spark.util.SizeEstimator$\n",
      "WARNING: Use --illegal-access=warn to enable warnings of further illegal reflective access operations\n",
      "WARNING: All illegal access operations will be denied in a future release\n"
     ]
    }
   ],
   "source": [
    "\n",
    "rf = RandomForestRegressor(featuresCol=\"features\", labelCol=\"label\", numTrees=20, maxDepth=10)\n",
    "rf_model = rf.fit(train_df)\n",
    "rf_predictions = rf_model.transform(test_df)"
   ]
  },
  {
   "cell_type": "code",
   "execution_count": 12,
   "id": "0a7fe5e3",
   "metadata": {},
   "outputs": [
    {
     "name": "stderr",
     "output_type": "stream",
     "text": [
      "                                                                                \r"
     ]
    },
    {
     "name": "stdout",
     "output_type": "stream",
     "text": [
      "Random Forest RMSE on test data: 17.02067351390865\n",
      "Random Forest R-squared on test data: 0.13923028009120952\n"
     ]
    },
    {
     "name": "stderr",
     "output_type": "stream",
     "text": [
      "                                                                                \r"
     ]
    }
   ],
   "source": [
    "rf_rmse = evaluator.evaluate(rf_predictions)\n",
    "print(f\"Random Forest RMSE on test data: {rf_rmse}\")\n",
    "rf_r2 = r2_evaluator.evaluate(rf_predictions)\n",
    "print(f\"Random Forest R-squared on test data: {rf_r2}\")"
   ]
  },
  {
   "cell_type": "code",
   "execution_count": 13,
   "id": "0e811518",
   "metadata": {},
   "outputs": [
    {
     "name": "stdout",
     "output_type": "stream",
     "text": [
      "+--------------------+--------------------+-----+------------------+\n",
      "|                  id|                name|label|        prediction|\n",
      "+--------------------+--------------------+-----+------------------+\n",
      "|001LvKFwYbfKYPQF2...|Yeh Lo Main Haari...|   34|31.527948163055157|\n",
      "|002TGKi4LBwxYodlf...|Cunnamulla Fella ...|   32|36.737411988187745|\n",
      "|00309sp8DDeN07RtA...|          Workaholic|   34| 30.21518557551919|\n",
      "|004TP6xsBixiK3zqO...|Kapitel 17 - Vene...|    2|15.420232075170878|\n",
      "|005xgk7TSc0gKBEEn...|      Waltz For Ruth|    5|22.911190365274074|\n",
      "|006dsLKWlQBtBPdhy...|      Limonádový Joe|    5|28.955630982641214|\n",
      "|008MKSfbnj5cY8AT8...|Spaziergang - Tei...|    2|14.046157179314374|\n",
      "|00An04LOF36saBLHZ...|           Aí Já Era|   58|27.217085151114198|\n",
      "|00ENwiGXMl2NpX2pI...|Qu'est-ce qu'on v...|   42| 31.66315831540793|\n",
      "|00EeJGg0rQWFYsREp...|     Armando Aguirre|   44| 32.03518033882743|\n",
      "+--------------------+--------------------+-----+------------------+\n",
      "only showing top 10 rows\n",
      "\n"
     ]
    }
   ],
   "source": [
    "rf_predictions.select(\"id\", \"name\", \"label\", \"prediction\").show(10)"
   ]
  },
  {
   "cell_type": "code",
   "execution_count": null,
   "id": "31c9b0e7",
   "metadata": {},
   "outputs": [],
   "source": []
  }
 ],
 "metadata": {
  "kernelspec": {
   "display_name": "venv (3.12.3)",
   "language": "python",
   "name": "python3"
  },
  "language_info": {
   "codemirror_mode": {
    "name": "ipython",
    "version": 3
   },
   "file_extension": ".py",
   "mimetype": "text/x-python",
   "name": "python",
   "nbconvert_exporter": "python",
   "pygments_lexer": "ipython3",
   "version": "3.12.3"
  }
 },
 "nbformat": 4,
 "nbformat_minor": 5
}
